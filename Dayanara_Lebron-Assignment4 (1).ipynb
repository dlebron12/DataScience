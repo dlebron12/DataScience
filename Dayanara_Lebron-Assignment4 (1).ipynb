{
 "cells": [
  {
   "cell_type": "markdown",
   "metadata": {},
   "source": [
    "# Assignment 4\n",
    "\n",
    "In this assignment, you'll combine the assignment 3 data set with nutrition data from the [USDA Food Composition Databases](https://ndb.nal.usda.gov/ndb/search/list). The CSV file `fresh.csv` contains the fresh fruits and vegetables data you extracted in assignment 3.\n",
    "\n",
    "The USDA Food Composition Databases have a [documented](https://ndb.nal.usda.gov/ndb/doc/index) web API that returns data in JSON format . You need a key in order to use the API. Only 1000 requests are allowed per hour, so it would be a good idea to use [caching][requests_cache].\n",
    "\n",
    "[Sign up for an API key here](https://api.data.gov/signup/). The key will work with any Data.gov API. You may need the key again later in the quarter, so make sure you save it.\n",
    "\n",
    "These modules may be useful:\n",
    "\n",
    "* [requests](http://docs.python-requests.org/en/master/user/quickstart/)\n",
    "* [requests_cache][]\n",
    "* [urlparse](https://docs.python.org/2/library/urlparse.html)\n",
    "* [pandas](http://pandas.pydata.org/pandas-docs/stable/)\n",
    "\n",
    "[requests_cache]: https://pypi.python.org/pypi/requests-cache"
   ]
  },
  {
   "cell_type": "markdown",
   "metadata": {},
   "source": [
    "__Exercise 1.1.__ Read the [search request documentation](https://ndb.nal.usda.gov/ndb/doc/apilist/API-SEARCH.md), then write a function called `ndb_search()` that makes a search request. The function should accept the search term as an argument. The function should return the search result items as a list (for 0 items, return an empty list).\n",
    "\n",
    "Note that the search url is: `https://api.nal.usda.gov/ndb/search`\n",
    "\n",
    "As an example, a search for `\"quail eggs\"` should return this list:\n",
    "\n",
    "```python\n",
    "[{u'ds': u'BL',\n",
    "  u'group': u'Branded Food Products Database',\n",
    "  u'name': u'CHAOKOH, QUAIL EGG IN BRINE, UPC: 044738074186',\n",
    "  u'ndbno': u'45094707',\n",
    "  u'offset': 0},\n",
    " {u'ds': u'BL',\n",
    "  u'group': u'Branded Food Products Database',\n",
    "  u'name': u'L&W, QUAIL EGGS, UPC: 024072000256',\n",
    "  u'ndbno': u'45094890',\n",
    "  u'offset': 1},\n",
    " {u'ds': u'BL',\n",
    "  u'group': u'Branded Food Products Database',\n",
    "  u'name': u'BUDDHA, QUAIL EGGS IN BRINE, UPC: 761934535098',\n",
    "  u'ndbno': u'45099560',\n",
    "  u'offset': 2},\n",
    " {u'ds': u'BL',\n",
    "  u'group': u'Branded Food Products Database',\n",
    "  u'name': u'GRAN SABANA, QUAIL EGGS, UPC: 819140010103',\n",
    "  u'ndbno': u'45169279',\n",
    "  u'offset': 3},\n",
    " {u'ds': u'BL',\n",
    "  u'group': u'Branded Food Products Database',\n",
    "  u'name': u\"D'ARTAGNAN, QUAIL EGGS, UPC: 736622102630\",\n",
    "  u'ndbno': u'45178254',\n",
    "  u'offset': 4},\n",
    " {u'ds': u'SR',\n",
    "  u'group': u'Dairy and Egg Products',\n",
    "  u'name': u'Egg, quail, whole, fresh, raw',\n",
    "  u'ndbno': u'01140',\n",
    "  u'offset': 5}]\n",
    "```\n",
    "\n",
    "As usual, make sure you document and test your function."
   ]
  },
  {
   "cell_type": "code",
   "execution_count": 512,
   "metadata": {
    "collapsed": false
   },
   "outputs": [],
   "source": [
    "#Import functions to be used\n",
    "\n",
    "import requests\n",
    "import requests_cache\n",
    "import pandas as pd\n",
    "import os\n",
    "import os.path\n",
    "\n",
    "requests_cache.install_cache()\n",
    "\n",
    "#This method requests a search on the usda page for the values inserted\n",
    "def ndb_search(food, key, verbose = False):\n",
    "    \n",
    "    #Add raw to the name of the food to eliminate unnecessary hits\n",
    "    food=food+\" raw\"\n",
    "    \n",
    "    #Url from where we wish to download the data\n",
    "    url = \"https://api.nal.usda.gov/ndb/search\"\n",
    "    response = requests.get(url, params = {\n",
    "        \"q\":food,\n",
    "        \"api_key\":key,\n",
    "        \"format\":\"json\",\n",
    "        #We want the unbranded items\n",
    "        \"ds\":\"Standard Reference\"\n",
    "    })\n",
    "    response.raise_for_status() # check for errors\n",
    "    #if verbose:\n",
    "     #   print response.url\n",
    "    \n",
    "    return response.json()# parse JSON\n",
    "\n"
   ]
  },
  {
   "cell_type": "code",
   "execution_count": 513,
   "metadata": {
    "collapsed": false,
    "scrolled": true
   },
   "outputs": [
    {
     "data": {
      "text/plain": [
       "{u'list': {u'ds': u'Standard Reference',\n",
       "  u'end': 1,\n",
       "  u'group': u'',\n",
       "  u'item': [{u'ds': u'SR',\n",
       "    u'group': u'Fruits and Fruit Juices',\n",
       "    u'name': u'Watermelon, raw',\n",
       "    u'ndbno': u'09326',\n",
       "    u'offset': 0}],\n",
       "  u'q': u'watermelon raw',\n",
       "  u'sort': u'r',\n",
       "  u'sr': u'28',\n",
       "  u'start': 0,\n",
       "  u'total': 1}}"
      ]
     },
     "execution_count": 513,
     "metadata": {},
     "output_type": "execute_result"
    }
   ],
   "source": [
    "#input your key \n",
    "my_key=\"INSERT YOUR KEY HERE PLEASE\"\n",
    "\n",
    "#Test\n",
    "ndb_search(\"watermelon\",my_key,verbose=False)\n"
   ]
  },
  {
   "cell_type": "markdown",
   "metadata": {},
   "source": [
    "__Exercise 1.2.__ Use your search function to get NDB numbers for the foods in the `fresh.csv` file. It's okay if you don't get an NDB number for every food, but try to come up with a strategy that gets most of them. Discuss your strategy in a short paragraph.\n",
    "\n",
    "Hints:\n",
    "\n",
    "* The foods are all raw and unbranded.\n",
    "* You can test search terms with the [online search page](https://ndb.nal.usda.gov/ndb/search/list).\n",
    "* You can convert the output of `ndb_search()` to a data frame with `pd.DataFrame()`.\n",
    "* The string methods for [Python](https://docs.python.org/2/library/stdtypes.html#string-methods) and [Pandas](http://pandas.pydata.org/pandas-docs/stable/text.html#method-summary) are useful here. It's okay if you use _simple_ regular expressions in the Pandas methods, although this exercise can be solved without them.\n",
    "* You can merge data frames that have a column in common with `pd.merge()`."
   ]
  },
  {
   "cell_type": "markdown",
   "metadata": {},
   "source": [
    "## THE MASTER Strategy  :) \n",
    "## i did a preliminary search and several of the fruits didnt produce a ndbno, so I went to the online db and saw what was the difference between the string on the fresh.csv vs the fruit name being displayed and removed the character that was creating the discrepancy.  Most of the missing food searches were corrected, except kiwi, and another fruit. \n",
    "\n",
    "##  I also noted that some of the fruits were duplicated in the list but after looking closer to the fresh.csv, the form specifies what type. These cases were cabbage and cucumber. I was having multiple errors due to the request with no responses that were being an obstruction to creating the entire dataframe so I just used a try and except. "
   ]
  },
  {
   "cell_type": "code",
   "execution_count": 514,
   "metadata": {
    "collapsed": false
   },
   "outputs": [],
   "source": [
    "#########################\n",
    "\n",
    "#The search_fruits method takes a list of food items to be searched in the database, and returns a \n",
    "#list with all the content information for those fruits \n",
    "########################\n",
    "\n",
    "def search_fruits(list_fruits): \n",
    "    df=[]\n",
    "    for x in list_fruits: \n",
    "        if(x==\"kiwi\"): x= x+'fruit'\n",
    "        try: \n",
    "            #since the raw and the unbranded description were included in the query we can select the first hit\n",
    "            info = ndb_search(x,my_key,verbose=False)[\"list\"][\"item\"][0] \n",
    "            df.append(info)\n",
    "        except:\n",
    "            pass\n",
    "    return df"
   ]
  },
  {
   "cell_type": "code",
   "execution_count": 603,
   "metadata": {
    "collapsed": false
   },
   "outputs": [],
   "source": [
    "\n",
    "path=\"INSERT YOUR PATH HERE \"\n",
    "filename=\"fresh.csv\"\n",
    "filename=os.path.join(path,filename)\n",
    "data=pd.read_csv(filename)\n",
    "\n",
    "\n",
    "#This is to see what are the indexes for the cucumbers\n",
    "foods=[\"cucumbers\",\"cabbage\"]\n",
    "[data[(data[\"food\"]==s)].index for s in foods] \n",
    "\n",
    "index=[25,26,36,37]\n",
    "for i in range(len(index)):\n",
    "    data.loc[index[i],\"food\"]=[\"cucumber with peel\",\"cucumber peeled\",\"cabbage green\",\"cabbage red\"][i]\n",
    "#Remove the underscore from names and remove the duplicated \n",
    "fruits=[s.replace(\"_\",\" \") for s in data[\"food\"]]\n",
    "\n",
    "\n",
    "#Get ndbo info\n",
    "ndbno_data=pd.DataFrame(search_fruits(fruits))\n"
   ]
  },
  {
   "cell_type": "code",
   "execution_count": 604,
   "metadata": {
    "collapsed": false
   },
   "outputs": [
    {
     "data": {
      "text/html": [
       "<div>\n",
       "<table border=\"1\" class=\"dataframe\">\n",
       "  <thead>\n",
       "    <tr style=\"text-align: right;\">\n",
       "      <th></th>\n",
       "      <th>ds</th>\n",
       "      <th>group</th>\n",
       "      <th>name</th>\n",
       "      <th>ndbno</th>\n",
       "      <th>offset</th>\n",
       "    </tr>\n",
       "  </thead>\n",
       "  <tbody>\n",
       "    <tr>\n",
       "      <th>0</th>\n",
       "      <td>SR</td>\n",
       "      <td>Fruits and Fruit Juices</td>\n",
       "      <td>Watermelon, raw</td>\n",
       "      <td>09326</td>\n",
       "      <td>0</td>\n",
       "    </tr>\n",
       "    <tr>\n",
       "      <th>1</th>\n",
       "      <td>SR</td>\n",
       "      <td>Fruits and Fruit Juices</td>\n",
       "      <td>Melons, cantaloupe, raw</td>\n",
       "      <td>09181</td>\n",
       "      <td>0</td>\n",
       "    </tr>\n",
       "    <tr>\n",
       "      <th>2</th>\n",
       "      <td>SR</td>\n",
       "      <td>Fruits and Fruit Juices</td>\n",
       "      <td>Tangerine juice, raw</td>\n",
       "      <td>09221</td>\n",
       "      <td>0</td>\n",
       "    </tr>\n",
       "    <tr>\n",
       "      <th>3</th>\n",
       "      <td>SR</td>\n",
       "      <td>Fruits and Fruit Juices</td>\n",
       "      <td>Strawberries, raw</td>\n",
       "      <td>09316</td>\n",
       "      <td>0</td>\n",
       "    </tr>\n",
       "    <tr>\n",
       "      <th>4</th>\n",
       "      <td>SR</td>\n",
       "      <td>Fruits and Fruit Juices</td>\n",
       "      <td>Plums, raw</td>\n",
       "      <td>09279</td>\n",
       "      <td>0</td>\n",
       "    </tr>\n",
       "  </tbody>\n",
       "</table>\n",
       "</div>"
      ],
      "text/plain": [
       "   ds                    group                     name  ndbno  offset\n",
       "0  SR  Fruits and Fruit Juices          Watermelon, raw  09326       0\n",
       "1  SR  Fruits and Fruit Juices  Melons, cantaloupe, raw  09181       0\n",
       "2  SR  Fruits and Fruit Juices     Tangerine juice, raw  09221       0\n",
       "3  SR  Fruits and Fruit Juices        Strawberries, raw  09316       0\n",
       "4  SR  Fruits and Fruit Juices               Plums, raw  09279       0"
      ]
     },
     "execution_count": 604,
     "metadata": {},
     "output_type": "execute_result"
    }
   ],
   "source": [
    "ndbno_data.head()\n"
   ]
  },
  {
   "cell_type": "code",
   "execution_count": 605,
   "metadata": {
    "collapsed": false
   },
   "outputs": [
    {
     "data": {
      "text/plain": [
       "True"
      ]
     },
     "execution_count": 605,
     "metadata": {},
     "output_type": "execute_result"
    }
   ],
   "source": [
    "#Make sure you are creating results of the same size\n",
    "len(fruits)== len(ndbno_data[\"name\"])"
   ]
  },
  {
   "cell_type": "markdown",
   "metadata": {},
   "source": [
    "__Exercise 1.3.__ Read the [food reports V2 documentation](https://ndb.nal.usda.gov/ndb/doc/apilist/API-FOOD-REPORTV2.md), then write a function called `ndb_report()` that requests a _basic_ food report. The function should accept the NDB number as an argument and return the list of nutrients for the food.\n",
    "\n",
    "Note that the report url is: `https://api.nal.usda.gov/ndb/V2/reports`\n",
    "\n",
    "For example, for `\"09279\"` (raw plums) the first element of the returned list should be:\n",
    "\n",
    "```python\n",
    "{u'group': u'Proximates',\n",
    " u'measures': [{u'eqv': 165.0,\n",
    "   u'eunit': u'g',\n",
    "   u'label': u'cup, sliced',\n",
    "   u'qty': 1.0,\n",
    "   u'value': u'143.93'},\n",
    "  {u'eqv': 66.0,\n",
    "   u'eunit': u'g',\n",
    "   u'label': u'fruit (2-1/8\" dia)',\n",
    "   u'qty': 1.0,\n",
    "   u'value': u'57.57'},\n",
    "  {u'eqv': 151.0,\n",
    "   u'eunit': u'g',\n",
    "   u'label': u'NLEA serving',\n",
    "   u'qty': 1.0,\n",
    "   u'value': u'131.72'}],\n",
    " u'name': u'Water',\n",
    " u'nutrient_id': u'255',\n",
    " u'unit': u'g',\n",
    " u'value': u'87.23'}\n",
    "```\n",
    "\n",
    "Be sure to document and test your function."
   ]
  },
  {
   "cell_type": "code",
   "execution_count": 606,
   "metadata": {
    "collapsed": true
   },
   "outputs": [],
   "source": [
    "#The ndb_report returns the nutritional report for each ndbno or fruit and follows the parameter criteria \n",
    "#shown in the V2 documentation. \n",
    "\n",
    "def ndb_report(ndb_number,my_key):\n",
    "    \n",
    "    url2 = \"https://api.nal.usda.gov/ndb/V2/reports\"\n",
    "    response = requests.get(url2, params = {\n",
    "        \"api_key\":my_key,\n",
    "        \"format\":\"json\",\n",
    "        \"ndbno\":ndb_number\n",
    "    })\n",
    "    return response.json()    \n",
    "    "
   ]
  },
  {
   "cell_type": "code",
   "execution_count": 607,
   "metadata": {
    "collapsed": false
   },
   "outputs": [],
   "source": [
    "#Test Run t\n",
    "t=ndb_report(\"09279\",my_key)[\"foods\"][0][\"food\"][\"nutrients\"]"
   ]
  },
  {
   "cell_type": "code",
   "execution_count": 608,
   "metadata": {
    "collapsed": false
   },
   "outputs": [
    {
     "data": {
      "text/html": [
       "<div>\n",
       "<table border=\"1\" class=\"dataframe\">\n",
       "  <thead>\n",
       "    <tr style=\"text-align: right;\">\n",
       "      <th></th>\n",
       "      <th>group</th>\n",
       "      <th>measures</th>\n",
       "      <th>name</th>\n",
       "      <th>nutrient_id</th>\n",
       "      <th>unit</th>\n",
       "      <th>value</th>\n",
       "    </tr>\n",
       "  </thead>\n",
       "  <tbody>\n",
       "    <tr>\n",
       "      <th>1</th>\n",
       "      <td>Proximates</td>\n",
       "      <td>[{u'eunit': u'g', u'eqv': 165.0, u'qty': 1.0, ...</td>\n",
       "      <td>Energy</td>\n",
       "      <td>208</td>\n",
       "      <td>kcal</td>\n",
       "      <td>46</td>\n",
       "    </tr>\n",
       "  </tbody>\n",
       "</table>\n",
       "</div>"
      ],
      "text/plain": [
       "        group                                           measures    name  \\\n",
       "1  Proximates  [{u'eunit': u'g', u'eqv': 165.0, u'qty': 1.0, ...  Energy   \n",
       "\n",
       "  nutrient_id  unit value  \n",
       "1         208  kcal    46  "
      ]
     },
     "execution_count": 608,
     "metadata": {},
     "output_type": "execute_result"
    }
   ],
   "source": [
    "#Find energy in test run\n",
    "t=pd.DataFrame(t); t[t[\"name\"]==\"Energy\"] "
   ]
  },
  {
   "cell_type": "markdown",
   "metadata": {},
   "source": [
    "#### Replicate for all ndbno numbers "
   ]
  },
  {
   "cell_type": "code",
   "execution_count": 609,
   "metadata": {
    "collapsed": false
   },
   "outputs": [],
   "source": [
    "#Info of nutrients interest in measures: eqv and measures:label \"cup,sliced\" or \"fruit\"\n",
    "#group:\"Vitamins value to eqv\n",
    "\n",
    "#Here the get_nutrient method gets the information for the nutrient of interest \n",
    "\n",
    "\n",
    "def get_Energy(list_in):\n",
    "    \n",
    "    #Enery is the slot [1]\n",
    "    conc=pd.DataFrame([ndb_report(j, my_key)[\"foods\"][0][\"food\"][\"nutrients\"][1] for j in list_in])\n",
    "    return conc\n"
   ]
  },
  {
   "cell_type": "code",
   "execution_count": 610,
   "metadata": {
    "collapsed": false
   },
   "outputs": [],
   "source": [
    "#Get nutrient data for all ndbo and add Fruit_name column to know from which fruit it came from \n",
    "nutrient_data=get_Energy(ndbno_data[\"ndbno\"]); nutrient_data[\"Fruit_name\"]=fruits; "
   ]
  },
  {
   "cell_type": "code",
   "execution_count": 611,
   "metadata": {
    "collapsed": false
   },
   "outputs": [
    {
     "data": {
      "text/html": [
       "<div>\n",
       "<table border=\"1\" class=\"dataframe\">\n",
       "  <thead>\n",
       "    <tr style=\"text-align: right;\">\n",
       "      <th></th>\n",
       "      <th>group</th>\n",
       "      <th>measures</th>\n",
       "      <th>name</th>\n",
       "      <th>nutrient_id</th>\n",
       "      <th>unit</th>\n",
       "      <th>value</th>\n",
       "      <th>Fruit_name</th>\n",
       "    </tr>\n",
       "  </thead>\n",
       "  <tbody>\n",
       "    <tr>\n",
       "      <th>0</th>\n",
       "      <td>Proximates</td>\n",
       "      <td>[{u'eunit': u'g', u'eqv': 154.0, u'qty': 1.0, ...</td>\n",
       "      <td>Energy</td>\n",
       "      <td>208</td>\n",
       "      <td>kcal</td>\n",
       "      <td>30</td>\n",
       "      <td>watermelon</td>\n",
       "    </tr>\n",
       "    <tr>\n",
       "      <th>1</th>\n",
       "      <td>Proximates</td>\n",
       "      <td>[{u'eunit': u'g', u'eqv': 177.0, u'qty': 1.0, ...</td>\n",
       "      <td>Energy</td>\n",
       "      <td>208</td>\n",
       "      <td>kcal</td>\n",
       "      <td>34</td>\n",
       "      <td>cantaloupe</td>\n",
       "    </tr>\n",
       "    <tr>\n",
       "      <th>2</th>\n",
       "      <td>Proximates</td>\n",
       "      <td>[{u'eunit': u'g', u'eqv': 247.0, u'qty': 1.0, ...</td>\n",
       "      <td>Energy</td>\n",
       "      <td>208</td>\n",
       "      <td>kcal</td>\n",
       "      <td>43</td>\n",
       "      <td>tangerines</td>\n",
       "    </tr>\n",
       "    <tr>\n",
       "      <th>3</th>\n",
       "      <td>Proximates</td>\n",
       "      <td>[{u'eunit': u'g', u'eqv': 152.0, u'qty': 1.0, ...</td>\n",
       "      <td>Energy</td>\n",
       "      <td>208</td>\n",
       "      <td>kcal</td>\n",
       "      <td>32</td>\n",
       "      <td>strawberries</td>\n",
       "    </tr>\n",
       "    <tr>\n",
       "      <th>4</th>\n",
       "      <td>Proximates</td>\n",
       "      <td>[{u'eunit': u'g', u'eqv': 165.0, u'qty': 1.0, ...</td>\n",
       "      <td>Energy</td>\n",
       "      <td>208</td>\n",
       "      <td>kcal</td>\n",
       "      <td>46</td>\n",
       "      <td>plums</td>\n",
       "    </tr>\n",
       "  </tbody>\n",
       "</table>\n",
       "</div>"
      ],
      "text/plain": [
       "        group                                           measures    name  \\\n",
       "0  Proximates  [{u'eunit': u'g', u'eqv': 154.0, u'qty': 1.0, ...  Energy   \n",
       "1  Proximates  [{u'eunit': u'g', u'eqv': 177.0, u'qty': 1.0, ...  Energy   \n",
       "2  Proximates  [{u'eunit': u'g', u'eqv': 247.0, u'qty': 1.0, ...  Energy   \n",
       "3  Proximates  [{u'eunit': u'g', u'eqv': 152.0, u'qty': 1.0, ...  Energy   \n",
       "4  Proximates  [{u'eunit': u'g', u'eqv': 165.0, u'qty': 1.0, ...  Energy   \n",
       "\n",
       "  nutrient_id  unit value    Fruit_name  \n",
       "0         208  kcal    30    watermelon  \n",
       "1         208  kcal    34    cantaloupe  \n",
       "2         208  kcal    43    tangerines  \n",
       "3         208  kcal    32  strawberries  \n",
       "4         208  kcal    46         plums  "
      ]
     },
     "execution_count": 611,
     "metadata": {},
     "output_type": "execute_result"
    }
   ],
   "source": [
    "nutrient_data.head()\n",
    "\n",
    "#If i get enough time then convert measure to eqv"
   ]
  },
  {
   "cell_type": "markdown",
   "metadata": {},
   "source": [
    "__Exercise 1.4.__ Which foods provide the best combination of price, yield, and nutrition? You can use kilocalories as a measure of \"nutrition\" here, but more a detailed analysis is better. Use plots to support your analysis."
   ]
  },
  {
   "cell_type": "code",
   "execution_count": 612,
   "metadata": {
    "collapsed": true
   },
   "outputs": [],
   "source": [
    "data[\"Energy_value\"]=nutrient_data['value'].astype(int)"
   ]
  },
  {
   "cell_type": "code",
   "execution_count": 613,
   "metadata": {
    "collapsed": false
   },
   "outputs": [
    {
     "data": {
      "text/html": [
       "<div>\n",
       "<table border=\"1\" class=\"dataframe\">\n",
       "  <thead>\n",
       "    <tr style=\"text-align: right;\">\n",
       "      <th></th>\n",
       "      <th>form</th>\n",
       "      <th>price_per_lb</th>\n",
       "      <th>yield</th>\n",
       "      <th>lb_per_cup</th>\n",
       "      <th>price_per_cup</th>\n",
       "      <th>food</th>\n",
       "      <th>type</th>\n",
       "      <th>Energy_value</th>\n",
       "    </tr>\n",
       "  </thead>\n",
       "  <tbody>\n",
       "    <tr>\n",
       "      <th>0</th>\n",
       "      <td>Fresh1</td>\n",
       "      <td>0.333412</td>\n",
       "      <td>0.52</td>\n",
       "      <td>0.330693</td>\n",
       "      <td>0.212033</td>\n",
       "      <td>watermelon</td>\n",
       "      <td>fruit</td>\n",
       "      <td>30</td>\n",
       "    </tr>\n",
       "    <tr>\n",
       "      <th>1</th>\n",
       "      <td>Fresh1</td>\n",
       "      <td>0.535874</td>\n",
       "      <td>0.51</td>\n",
       "      <td>0.374786</td>\n",
       "      <td>0.393800</td>\n",
       "      <td>cantaloupe</td>\n",
       "      <td>fruit</td>\n",
       "      <td>34</td>\n",
       "    </tr>\n",
       "    <tr>\n",
       "      <th>2</th>\n",
       "      <td>Fresh1</td>\n",
       "      <td>1.377962</td>\n",
       "      <td>0.74</td>\n",
       "      <td>0.407855</td>\n",
       "      <td>0.759471</td>\n",
       "      <td>tangerines</td>\n",
       "      <td>fruit</td>\n",
       "      <td>43</td>\n",
       "    </tr>\n",
       "    <tr>\n",
       "      <th>3</th>\n",
       "      <td>Fresh1</td>\n",
       "      <td>2.358808</td>\n",
       "      <td>0.94</td>\n",
       "      <td>0.319670</td>\n",
       "      <td>0.802171</td>\n",
       "      <td>strawberries</td>\n",
       "      <td>fruit</td>\n",
       "      <td>32</td>\n",
       "    </tr>\n",
       "    <tr>\n",
       "      <th>4</th>\n",
       "      <td>Fresh1</td>\n",
       "      <td>1.827416</td>\n",
       "      <td>0.94</td>\n",
       "      <td>0.363763</td>\n",
       "      <td>0.707176</td>\n",
       "      <td>plums</td>\n",
       "      <td>fruit</td>\n",
       "      <td>46</td>\n",
       "    </tr>\n",
       "  </tbody>\n",
       "</table>\n",
       "</div>"
      ],
      "text/plain": [
       "     form  price_per_lb  yield  lb_per_cup  price_per_cup          food  \\\n",
       "0  Fresh1      0.333412   0.52    0.330693       0.212033    watermelon   \n",
       "1  Fresh1      0.535874   0.51    0.374786       0.393800    cantaloupe   \n",
       "2  Fresh1      1.377962   0.74    0.407855       0.759471    tangerines   \n",
       "3  Fresh1      2.358808   0.94    0.319670       0.802171  strawberries   \n",
       "4  Fresh1      1.827416   0.94    0.363763       0.707176         plums   \n",
       "\n",
       "    type  Energy_value  \n",
       "0  fruit            30  \n",
       "1  fruit            34  \n",
       "2  fruit            43  \n",
       "3  fruit            32  \n",
       "4  fruit            46  "
      ]
     },
     "execution_count": 613,
     "metadata": {},
     "output_type": "execute_result"
    }
   ],
   "source": [
    "data.head()"
   ]
  },
  {
   "cell_type": "code",
   "execution_count": 614,
   "metadata": {
    "collapsed": false
   },
   "outputs": [
    {
     "data": {
      "text/plain": [
       "form              object\n",
       "price_per_lb     float64\n",
       "yield            float64\n",
       "lb_per_cup       float64\n",
       "price_per_cup    float64\n",
       "food              object\n",
       "type              object\n",
       "Energy_value       int64\n",
       "dtype: object"
      ]
     },
     "execution_count": 614,
     "metadata": {},
     "output_type": "execute_result"
    }
   ],
   "source": [
    "data.dtypes"
   ]
  },
  {
   "cell_type": "code",
   "execution_count": 615,
   "metadata": {
    "collapsed": false
   },
   "outputs": [
    {
     "data": {
      "image/png": "[encoded data removed]",
      "text/plain": [
       "<matplotlib.figure.Figure at 0x11fba1810>"
      ]
     },
     "metadata": {},
     "output_type": "display_data"
    }
   ],
   "source": [
    "from mpl_toolkits.mplot3d import Axes3D\n",
    "import matplotlib.pyplot as plt\n",
    "\n",
    "\n",
    "\n",
    "fig = plt.figure(figsize=(7,5))\n",
    "#ax = fig.add_subplot(111, projection='3d')\n",
    "ax = fig.add_axes([0.1,0.1,0.88,0.88])\n",
    "\n",
    "ax.scatter(data[\"Energy_value\"], data[\"yield\"], s=data[\"price_per_lb\"]*50, c='r', marker='o')\n",
    "\n",
    "ax.set_xlabel('Energy in kcal per 100g')\n",
    "ax.set_ylabel('Yield')\n",
    "ax.set_title(\"Yield vs Energy with Price sizing\")\n",
    "#ax.set_zlabel('Energy kcal per 100g')\n",
    "\n",
    "plt.show()\n"
   ]
  },
  {
   "cell_type": "markdown",
   "metadata": {},
   "source": [
    "#### In this 2d scatterplot the sizes are determined by the  that the food provides. Acording to this we would want a food that gives us high energy, less price per pound and high yield. We are looking at values in the high right corner with small size. \n",
    "\n",
    "### only a medium-price food is located in the extreme axis of the df with an approximate 0.8 yield this food is AVOCADO, next one is a small point located in yield > 0.8 and energy> 80 with a small cost this is the SWEET POTATOE. \n"
   ]
  },
  {
   "cell_type": "code",
   "execution_count": 542,
   "metadata": {
    "collapsed": false
   },
   "outputs": [
    {
     "data": {
      "text/html": [
       "<div>\n",
       "<table border=\"1\" class=\"dataframe\">\n",
       "  <thead>\n",
       "    <tr style=\"text-align: right;\">\n",
       "      <th></th>\n",
       "      <th>form</th>\n",
       "      <th>price_per_lb</th>\n",
       "      <th>yield</th>\n",
       "      <th>lb_per_cup</th>\n",
       "      <th>price_per_cup</th>\n",
       "      <th>food</th>\n",
       "      <th>type</th>\n",
       "      <th>Energy_value</th>\n",
       "    </tr>\n",
       "  </thead>\n",
       "  <tbody>\n",
       "    <tr>\n",
       "      <th>42</th>\n",
       "      <td>Fresh1</td>\n",
       "      <td>2.235874</td>\n",
       "      <td>0.740753</td>\n",
       "      <td>0.31967</td>\n",
       "      <td>0.964886</td>\n",
       "      <td>avocados</td>\n",
       "      <td>vegetables</td>\n",
       "      <td>167</td>\n",
       "    </tr>\n",
       "  </tbody>\n",
       "</table>\n",
       "</div>"
      ],
      "text/plain": [
       "      form  price_per_lb     yield  lb_per_cup  price_per_cup      food  \\\n",
       "42  Fresh1      2.235874  0.740753     0.31967       0.964886  avocados   \n",
       "\n",
       "          type  Energy_value  \n",
       "42  vegetables           167  "
      ]
     },
     "execution_count": 542,
     "metadata": {},
     "output_type": "execute_result"
    }
   ],
   "source": [
    "data[data[\"Energy_value\"]> 160]"
   ]
  },
  {
   "cell_type": "code",
   "execution_count": 547,
   "metadata": {
    "collapsed": false
   },
   "outputs": [
    {
     "data": {
      "text/html": [
       "<div>\n",
       "<table border=\"1\" class=\"dataframe\">\n",
       "  <thead>\n",
       "    <tr style=\"text-align: right;\">\n",
       "      <th></th>\n",
       "      <th>form</th>\n",
       "      <th>price_per_lb</th>\n",
       "      <th>yield</th>\n",
       "      <th>lb_per_cup</th>\n",
       "      <th>price_per_cup</th>\n",
       "      <th>food</th>\n",
       "      <th>type</th>\n",
       "      <th>Energy_value</th>\n",
       "    </tr>\n",
       "  </thead>\n",
       "  <tbody>\n",
       "    <tr>\n",
       "      <th>38</th>\n",
       "      <td>Fresh1</td>\n",
       "      <td>0.918897</td>\n",
       "      <td>0.811301</td>\n",
       "      <td>0.440925</td>\n",
       "      <td>0.4994</td>\n",
       "      <td>sweet_potatoes</td>\n",
       "      <td>vegetables</td>\n",
       "      <td>86</td>\n",
       "    </tr>\n",
       "  </tbody>\n",
       "</table>\n",
       "</div>"
      ],
      "text/plain": [
       "      form  price_per_lb     yield  lb_per_cup  price_per_cup            food  \\\n",
       "38  Fresh1      0.918897  0.811301    0.440925         0.4994  sweet_potatoes   \n",
       "\n",
       "          type  Energy_value  \n",
       "38  vegetables            86  "
      ]
     },
     "execution_count": 547,
     "metadata": {},
     "output_type": "execute_result"
    }
   ],
   "source": [
    "data[(data[\"Energy_value\"] > 80) & (data[\"yield\"]>0.8)]"
   ]
  },
  {
   "cell_type": "markdown",
   "metadata": {},
   "source": [
    "## Nevertheless the energy value alone does not say much if it is not proportional to the eqv (proportion of eatable food per 100g) so given that I had more time I would had attempt to do this conversion and re-plot. "
   ]
  }
 ],
 "metadata": {
  "anaconda-cloud": {},
  "kernelspec": {
   "display_name": "Python [default]",
   "language": "python",
   "name": "python2"
  },
  "language_info": {
   "codemirror_mode": {
    "name": "ipython",
    "version": 2
   },
   "file_extension": ".py",
   "mimetype": "text/x-python",
   "name": "python",
   "nbconvert_exporter": "python",
   "pygments_lexer": "ipython2",
   "version": "2.7.12"
  }
 },
 "nbformat": 4,
 "nbformat_minor": 2
}
