{
 "cells": [
  {
   "cell_type": "markdown",
   "metadata": {},
   "source": [
    "##### Dayanara Lebron Aldea\n",
    "##### HW-4\n",
    "##### STA108"
   ]
  },
  {
   "cell_type": "markdown",
   "metadata": {},
   "source": [
    "## Exercise 3\n"
   ]
  },
  {
   "cell_type": "code",
   "execution_count": 3,
   "metadata": {
    "collapsed": false
   },
   "outputs": [
    {
     "data": {
      "text/html": [
       "'/Users/dlaldea/Downloads'"
      ],
      "text/latex": [
       "'/Users/dlaldea/Downloads'"
      ],
      "text/markdown": [
       "'/Users/dlaldea/Downloads'"
      ],
      "text/plain": [
       "[1] \"/Users/dlaldea/Downloads\""
      ]
     },
     "metadata": {},
     "output_type": "display_data"
    }
   ],
   "source": [
    "getwd()\n",
    "data<-read.csv(\"CH01PR27.txt\", head=F)\n",
    "y=data[,1]\n",
    "x=data$V1\n",
    "n=length(y)"
   ]
  },
  {
   "cell_type": "markdown",
   "metadata": {},
   "source": [
    "#### Create the design matrix X and the response vector Y. What are their dimensions?"
   ]
  },
  {
   "cell_type": "code",
   "execution_count": 19,
   "metadata": {
    "collapsed": false
   },
   "outputs": [
    {
     "name": "stdout",
     "output_type": "stream",
     "text": [
      "[1] \"The dimension of X is: 60 by 2\"\n"
     ]
    },
    {
     "data": {
      "text/html": [
       "<ol class=list-inline>\n",
       "\t<li>60</li>\n",
       "\t<li>2</li>\n",
       "</ol>\n"
      ],
      "text/latex": [
       "\\begin{enumerate*}\n",
       "\\item 60\n",
       "\\item 2\n",
       "\\end{enumerate*}\n"
      ],
      "text/markdown": [
       "1. 60\n",
       "2. 2\n",
       "\n",
       "\n"
      ],
      "text/plain": [
       "[1] 60  2"
      ]
     },
     "metadata": {},
     "output_type": "display_data"
    },
    {
     "name": "stdout",
     "output_type": "stream",
     "text": [
      "[1] \"The dimension of Y is: 60 by 1\"\n"
     ]
    },
    {
     "data": {
      "text/html": [
       "<ol class=list-inline>\n",
       "\t<li>60</li>\n",
       "\t<li>1</li>\n",
       "</ol>\n"
      ],
      "text/latex": [
       "\\begin{enumerate*}\n",
       "\\item 60\n",
       "\\item 1\n",
       "\\end{enumerate*}\n"
      ],
      "text/markdown": [
       "1. 60\n",
       "2. 1\n",
       "\n",
       "\n"
      ],
      "text/plain": [
       "[1] 60  1"
      ]
     },
     "metadata": {},
     "output_type": "display_data"
    }
   ],
   "source": [
    "X=cbind(rep(1,length(x)),as.matrix(as.integer(x)))\n",
    "Y=as.matrix(as.integer(y))\n",
    "#Dimensions\n",
    "print(paste(\"The dimension of X is:\",dim(X)[1],\"by\",dim(X)[2]))\n",
    "dim(X);\n",
    "print(paste(\"The dimension of Y is:\",dim(Y)[1],\"by\",dim(Y)[2]))\n",
    "dim(Y);\n"
   ]
  },
  {
   "cell_type": "markdown",
   "metadata": {},
   "source": [
    "#### b Calculate X'X, X'Y and (X'X)-1"
   ]
  },
  {
   "cell_type": "code",
   "execution_count": 7,
   "metadata": {
    "collapsed": true
   },
   "outputs": [],
   "source": [
    "xtx=t(X)%*%X\n",
    "xty=t(X)%*%Y\n",
    "ixtx=solve(xtx)"
   ]
  },
  {
   "cell_type": "markdown",
   "metadata": {},
   "source": [
    "#### c & d: Calculate the least squares and Hat Matrix. What is its dimension? report the 6 diagonal values."
   ]
  },
  {
   "cell_type": "code",
   "execution_count": 11,
   "metadata": {
    "collapsed": false
   },
   "outputs": [
    {
     "name": "stdout",
     "output_type": "stream",
     "text": [
      "[1] \"The dimension of H is:\"\n"
     ]
    },
    {
     "data": {
      "text/html": [
       "<ol class=list-inline>\n",
       "\t<li>60</li>\n",
       "\t<li>60</li>\n",
       "</ol>\n"
      ],
      "text/latex": [
       "\\begin{enumerate*}\n",
       "\\item 60\n",
       "\\item 60\n",
       "\\end{enumerate*}\n"
      ],
      "text/markdown": [
       "1. 60\n",
       "2. 60\n",
       "\n",
       "\n"
      ],
      "text/plain": [
       "[1] 60 60"
      ]
     },
     "metadata": {},
     "output_type": "display_data"
    },
    {
     "name": "stdout",
     "output_type": "stream",
     "text": [
      "[1] \"The first 6 diagonals of the H matrix are:\"\n"
     ]
    },
    {
     "data": {
      "text/html": [
       "<ol class=list-inline>\n",
       "\t<li>0.0478447658453977</li>\n",
       "\t<li>0.0451486279055356</li>\n",
       "\t<li>0.0279681136482078</li>\n",
       "\t<li>0.0598483701775042</li>\n",
       "\t<li>0.024892037656534</li>\n",
       "\t<li>0.0665816038871523</li>\n",
       "</ol>\n"
      ],
      "text/latex": [
       "\\begin{enumerate*}\n",
       "\\item 0.0478447658453977\n",
       "\\item 0.0451486279055356\n",
       "\\item 0.0279681136482078\n",
       "\\item 0.0598483701775042\n",
       "\\item 0.024892037656534\n",
       "\\item 0.0665816038871523\n",
       "\\end{enumerate*}\n"
      ],
      "text/markdown": [
       "1. 0.0478447658453977\n",
       "2. 0.0451486279055356\n",
       "3. 0.0279681136482078\n",
       "4. 0.0598483701775042\n",
       "5. 0.024892037656534\n",
       "6. 0.0665816038871523\n",
       "\n",
       "\n"
      ],
      "text/plain": [
       "[1] 0.04784477 0.04514863 0.02796811 0.05984837 0.02489204 0.06658160"
      ]
     },
     "metadata": {},
     "output_type": "display_data"
    }
   ],
   "source": [
    "B=ixtx%*%xty\n",
    "H=X%*%ixtx%*%t(X)\n",
    "print(\"The dimension of H is:\")\n",
    "dim(H) #60X60\n",
    "print(\"The first 6 diagonals of the H matrix are:\")\n",
    "diag(H)[1:6]\n"
   ]
  },
  {
   "cell_type": "markdown",
   "metadata": {},
   "source": [
    "#### e Calculate the fitted values and residuals"
   ]
  },
  {
   "cell_type": "code",
   "execution_count": 20,
   "metadata": {
    "collapsed": false
   },
   "outputs": [
    {
     "name": "stdout",
     "output_type": "stream",
     "text": [
      "[1] \"First 6 fitted values:\"\n"
     ]
    },
    {
     "data": {
      "text/html": [
       "<ol class=list-inline>\n",
       "\t<li>52</li>\n",
       "\t<li>51</li>\n",
       "\t<li>43</li>\n",
       "\t<li>56</li>\n",
       "\t<li>41</li>\n",
       "\t<li>58</li>\n",
       "</ol>\n"
      ],
      "text/latex": [
       "\\begin{enumerate*}\n",
       "\\item 52\n",
       "\\item 51\n",
       "\\item 43\n",
       "\\item 56\n",
       "\\item 41\n",
       "\\item 58\n",
       "\\end{enumerate*}\n"
      ],
      "text/markdown": [
       "1. 52\n",
       "2. 51\n",
       "3. 43\n",
       "4. 56\n",
       "5. 41\n",
       "6. 58\n",
       "\n",
       "\n"
      ],
      "text/plain": [
       "[1] 52 51 43 56 41 58"
      ]
     },
     "metadata": {},
     "output_type": "display_data"
    },
    {
     "name": "stdout",
     "output_type": "stream",
     "text": [
      "[1] \"First 6 residuals:\"\n"
     ]
    },
    {
     "data": {
      "text/html": [
       "<ol class=list-inline>\n",
       "\t<li>-7.105427357601e-15</li>\n",
       "\t<li>3.5527136788005e-14</li>\n",
       "\t<li>1.4210854715202e-14</li>\n",
       "\t<li>1.4210854715202e-14</li>\n",
       "\t<li>2.8421709430404e-14</li>\n",
       "\t<li>0</li>\n",
       "</ol>\n"
      ],
      "text/latex": [
       "\\begin{enumerate*}\n",
       "\\item -7.105427357601e-15\n",
       "\\item 3.5527136788005e-14\n",
       "\\item 1.4210854715202e-14\n",
       "\\item 1.4210854715202e-14\n",
       "\\item 2.8421709430404e-14\n",
       "\\item 0\n",
       "\\end{enumerate*}\n"
      ],
      "text/markdown": [
       "1. -7.105427357601e-15\n",
       "2. 3.5527136788005e-14\n",
       "3. 1.4210854715202e-14\n",
       "4. 1.4210854715202e-14\n",
       "5. 2.8421709430404e-14\n",
       "6. 0\n",
       "\n",
       "\n"
      ],
      "text/plain": [
       "[1] -7.105427e-15  3.552714e-14  1.421085e-14  1.421085e-14  2.842171e-14\n",
       "[6]  0.000000e+00"
      ]
     },
     "metadata": {},
     "output_type": "display_data"
    }
   ],
   "source": [
    "Yhat=H%*%Y\n",
    "print(\"First 6 fitted values:\")\n",
    "Yhat[1:6]\n",
    "residuals=Y-Yhat\n",
    "print(\"First 6 residuals:\")\n",
    "residuals[1:6]\n"
   ]
  },
  {
   "cell_type": "code",
   "execution_count": null,
   "metadata": {
    "collapsed": true
   },
   "outputs": [],
   "source": []
  },
  {
   "cell_type": "code",
   "execution_count": null,
   "metadata": {
    "collapsed": true
   },
   "outputs": [],
   "source": []
  },
  {
   "cell_type": "code",
   "execution_count": null,
   "metadata": {
    "collapsed": true
   },
   "outputs": [],
   "source": []
  },
  {
   "cell_type": "code",
   "execution_count": null,
   "metadata": {
    "collapsed": true
   },
   "outputs": [],
   "source": []
  }
 ],
 "metadata": {
  "anaconda-cloud": {},
  "kernelspec": {
   "display_name": "R",
   "language": "R",
   "name": "ir"
  },
  "language_info": {
   "codemirror_mode": "r",
   "file_extension": ".r",
   "mimetype": "text/x-r-source",
   "name": "R",
   "pygments_lexer": "r",
   "version": "3.3.2"
  }
 },
 "nbformat": 4,
 "nbformat_minor": 1
}
